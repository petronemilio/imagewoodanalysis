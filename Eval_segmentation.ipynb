{
 "cells": [
  {
   "cell_type": "markdown",
   "metadata": {},
   "source": [
    "Evaluar los métodos de preprocesamiento de imágenes. En función de ello ver si conviene hacer watershed al mejor filtro.\n"
   ]
  },
  {
   "cell_type": "code",
   "execution_count": 2,
   "metadata": {},
   "outputs": [],
   "source": [
    "import numpy as np\n",
    "import imutils\n",
    "import matplotlib.pyplot as plt\n",
    "from PIL import Image, ImageOps\n",
    "%matplotlib inline\n",
    "import cv2 as cv"
   ]
  },
  {
   "cell_type": "code",
   "execution_count": 5,
   "metadata": {},
   "outputs": [],
   "source": [
    "th1dst_2= cv.imread('../Data/Mappia_photos/10X/mappia_10x_0005_th1dst_2.png')\n",
    "th2dst_2=cv.imread('../Data/Mappia_photos/10X/mappia_10x_0005_th2dst_2.png')\n",
    "th1blur_2= cv.imread('../Data/Mappia_photos/10X/mappia_10x_0005_th1blur_2.png')\n",
    "th2blur_2=cv.imread('../Data/Mappia_photos/10X/mappia_10x_0005_th2blur_2.png') \n",
    "th1med_2=cv.imread('../Data/Mappia_photos/10X/mappia_10x_0005_th1med_2.png')\n",
    "th2med_2=cv.imread('../Data/Mappia_photos/10X/mappia_10x_0005_th2med_2.png')\n",
    "th1bil_2=cv.imread('../Data/Mappia_photos/10X/mappia_10x_0005_th1bil_2.png')\n",
    "th2bil_2=cv.imread('../Data/Mappia_photos/10X/mappia_10x_0005_th2bil_2.png')\n",
    "th1smooth_2=cv.imread('../Data/Mappia_photos/10X/mappia_10x_0005_th1smooth_2.png')\n",
    "th2smooth_2=cv.imread('../Data/Mappia_photos/10X/mappia_10x_0005_th2smooth_2.png')"
   ]
  },
  {
   "cell_type": "code",
   "execution_count": 8,
   "metadata": {},
   "outputs": [
    {
     "ename": "error",
     "evalue": "OpenCV(4.1.1) /io/opencv/modules/imgproc/src/contours.cpp:197: error: (-210:Unsupported format or combination of formats) [Start]FindContours supports only CV_8UC1 images when mode != CV_RETR_FLOODFILL otherwise supports CV_32SC1 images only in function 'cvStartFindContours_Impl'\n",
     "output_type": "error",
     "traceback": [
      "\u001b[0;31m---------------------------------------------------------------------------\u001b[0m",
      "\u001b[0;31merror\u001b[0m                                     Traceback (most recent call last)",
      "\u001b[0;32m<ipython-input-8-a3a6de3260f4>\u001b[0m in \u001b[0;36m<module>\u001b[0;34m\u001b[0m\n\u001b[1;32m      1\u001b[0m \u001b[0;31m# find contours in the thresholded image\u001b[0m\u001b[0;34m\u001b[0m\u001b[0;34m\u001b[0m\u001b[0;34m\u001b[0m\u001b[0m\n\u001b[1;32m      2\u001b[0m \u001b[0;31m#cnts = cv.findContours(th3_2, cv.RETR_EXTERNAL,cv.CHAIN_APPROX_SIMPLE)\u001b[0m\u001b[0;34m\u001b[0m\u001b[0;34m\u001b[0m\u001b[0;34m\u001b[0m\u001b[0m\n\u001b[0;32m----> 3\u001b[0;31m \u001b[0mcnts\u001b[0m\u001b[0;34m,\u001b[0m\u001b[0mhierarchy\u001b[0m\u001b[0;34m=\u001b[0m\u001b[0mcv\u001b[0m\u001b[0;34m.\u001b[0m\u001b[0mfindContours\u001b[0m\u001b[0;34m(\u001b[0m\u001b[0mth2smooth_2\u001b[0m\u001b[0;34m,\u001b[0m\u001b[0mcv\u001b[0m\u001b[0;34m.\u001b[0m\u001b[0mRETR_TREE\u001b[0m\u001b[0;34m,\u001b[0m\u001b[0mcv\u001b[0m\u001b[0;34m.\u001b[0m\u001b[0mCHAIN_APPROX_NONE\u001b[0m\u001b[0;34m)\u001b[0m\u001b[0;34m\u001b[0m\u001b[0;34m\u001b[0m\u001b[0m\n\u001b[0m\u001b[1;32m      4\u001b[0m \u001b[0;31m#cnts = imutils.grab_contours(cnts)\u001b[0m\u001b[0;34m\u001b[0m\u001b[0;34m\u001b[0m\u001b[0;34m\u001b[0m\u001b[0m\n\u001b[1;32m      5\u001b[0m \u001b[0mhierarchy\u001b[0m\u001b[0;34m.\u001b[0m\u001b[0mshape\u001b[0m\u001b[0;34m\u001b[0m\u001b[0;34m\u001b[0m\u001b[0m\n",
      "\u001b[0;31merror\u001b[0m: OpenCV(4.1.1) /io/opencv/modules/imgproc/src/contours.cpp:197: error: (-210:Unsupported format or combination of formats) [Start]FindContours supports only CV_8UC1 images when mode != CV_RETR_FLOODFILL otherwise supports CV_32SC1 images only in function 'cvStartFindContours_Impl'\n"
     ]
    }
   ],
   "source": [
    "# find contours in the thresholded image\n",
    "#cnts = cv.findContours(th3_2, cv.RETR_EXTERNAL,cv.CHAIN_APPROX_SIMPLE)\n",
    "cnts,hierarchy=cv.findContours(th2smooth_2,cv.RETR_TREE,cv.CHAIN_APPROX_NONE)\n",
    "#cnts = imutils.grab_contours(cnts)\n",
    "hierarchy.shape\n",
    "print(hierarchy)"
   ]
  },
  {
   "cell_type": "code",
   "execution_count": 9,
   "metadata": {},
   "outputs": [
    {
     "ename": "NameError",
     "evalue": "name 'cnts' is not defined",
     "output_type": "error",
     "traceback": [
      "\u001b[0;31m---------------------------------------------------------------------------\u001b[0m",
      "\u001b[0;31mNameError\u001b[0m                                 Traceback (most recent call last)",
      "\u001b[0;32m<ipython-input-9-6b33b3035708>\u001b[0m in \u001b[0;36m<module>\u001b[0;34m\u001b[0m\n\u001b[1;32m      6\u001b[0m \u001b[0mperimeters\u001b[0m\u001b[0;34m=\u001b[0m\u001b[0;34m[\u001b[0m\u001b[0;34m]\u001b[0m\u001b[0;34m\u001b[0m\u001b[0;34m\u001b[0m\u001b[0m\n\u001b[1;32m      7\u001b[0m \u001b[0;31m# loop over the contours\u001b[0m\u001b[0;34m\u001b[0m\u001b[0;34m\u001b[0m\u001b[0;34m\u001b[0m\u001b[0m\n\u001b[0;32m----> 8\u001b[0;31m \u001b[0;32mfor\u001b[0m \u001b[0mc\u001b[0m \u001b[0;32min\u001b[0m \u001b[0mcnts\u001b[0m\u001b[0;34m:\u001b[0m\u001b[0;34m\u001b[0m\u001b[0;34m\u001b[0m\u001b[0m\n\u001b[0m\u001b[1;32m      9\u001b[0m     \u001b[0;31m# compute the center of the contour\u001b[0m\u001b[0;34m\u001b[0m\u001b[0;34m\u001b[0m\u001b[0;34m\u001b[0m\u001b[0m\n\u001b[1;32m     10\u001b[0m     \u001b[0mM\u001b[0m \u001b[0;34m=\u001b[0m \u001b[0mcv\u001b[0m\u001b[0;34m.\u001b[0m\u001b[0mmoments\u001b[0m\u001b[0;34m(\u001b[0m\u001b[0mc\u001b[0m\u001b[0;34m)\u001b[0m \u001b[0;31m#que es moments?¡¿\u001b[0m\u001b[0;34m\u001b[0m\u001b[0;34m\u001b[0m\u001b[0m\n",
      "\u001b[0;31mNameError\u001b[0m: name 'cnts' is not defined"
     ]
    }
   ],
   "source": [
    "#make array of centroids\n",
    "centroids=[]\n",
    "#Array of areas\n",
    "areas=[]\n",
    "#Array for perimeters\n",
    "perimeters=[]\n",
    "# loop over the contours\n",
    "for c in cnts:\n",
    "    # compute the center of the contour\n",
    "    M = cv.moments(c) #que es moments?¡¿\n",
    "    if M[\"m00\"] != 0:\n",
    "        cX = int(M[\"m10\"] / M[\"m00\"])\n",
    "        cY = int(M[\"m01\"] / M[\"m00\"])\n",
    "    else:\n",
    "        cX, cY = 0, 0\n",
    "    # draw the contour and center of the shape on the image\n",
    "    cv.drawContours(th3_2, [c], -1, (0, 255, 0), 2)\n",
    "    cv.circle(th3_2, (cX, cY), 7, (255, 255, 255), -1)\n",
    "    centroids.append([cX, cY])\n",
    "    areas.append(cv.contourArea(c))\n",
    "    perimeters.append(cv.arcLength(c,True))\n",
    "\n",
    "    #cv.putText(th2, \"center\", (cX - 20, cY - 20),cv.FONT_HERSHEY_SIMPLEX, 0.5, (255, 255, 255), 2)\n",
    "    # display the image\n",
    "    #cv.imshow(\"Image\", th2)\n",
    "plt.imshow(th3_2,cmap=\"gray\", vmin=0, vmax=255)"
   ]
  }
 ],
 "metadata": {
  "kernelspec": {
   "display_name": "Python 3",
   "language": "python",
   "name": "python3"
  },
  "language_info": {
   "codemirror_mode": {
    "name": "ipython",
    "version": 3
   },
   "file_extension": ".py",
   "mimetype": "text/x-python",
   "name": "python",
   "nbconvert_exporter": "python",
   "pygments_lexer": "ipython3",
   "version": "3.6.9"
  }
 },
 "nbformat": 4,
 "nbformat_minor": 2
}
